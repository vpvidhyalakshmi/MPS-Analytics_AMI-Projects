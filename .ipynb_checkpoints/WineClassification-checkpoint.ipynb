{
 "cells": [
  {
   "cell_type": "markdown",
   "metadata": {},
   "source": [
    "# Wine Classification using Gaussian Naive Bayes"
   ]
  },
  {
   "cell_type": "markdown",
   "metadata": {},
   "source": [
    "### <div class=\"alert alert-info\">Bayes Rule</div>\n",
    "\n",
    "Bayes Rule or Bayes Theorem describes the probability of \"causes\". It defines the probability of occurrence of an event related to any condition. In other words, the theorem helps us to alter our beliefs when we have a new and relevant  piece of information. \n",
    "\n",
    "Bayes Theorem is given by the formula: \n",
    "               **P(A|B) = (P(B|A).P(A))/P(B)**\n",
    "\n",
    "It says, the probability of the event A given the condition B is directly proportional to the pior (P(A)- the total probability of A without any condition) and likelihood (P(B|A)- the probability of observing the new evidence, given our initial hypothesis) and inversely proportional to the marginal likelihood (P(B)- the total probability of condition/evidence)."
   ]
  },
  {
   "cell_type": "markdown",
   "metadata": {},
   "source": [
    "### <div class=\"alert alert-info\">Naive Bayes classifier</div>\n",
    "\n",
    "It is a classification algorithm built based on the Bayes Theorem. It classifies the data based on the assumption that every feature in the class is independent of any other feature present in the class. The name \"naive\" is derived as this assumption is very naive. However, this technique is found to be very effective on large and complex datasets and it also helps in building the models to make quick decisions. This classifier algorithm is frequently used in spam filtration, Sentimental analysis, and classifying articles."
   ]
  },
  {
   "cell_type": "markdown",
   "metadata": {},
   "source": [
    "### <div class=\"alert alert-info\">Model Building</div>\n",
    "\n",
    "The wine dataset is loaded from the scikit-learn library datasets. It is split into training and testing sets using a stratified sampling method with a random state to reproduce the results consistently. A Gaussian Naive Bayes model is then trained using the training data to predict the class labels of the wine in the test dataset. Finally, the performance of the prediction model is evaluated using various metrics, including the accuracy score, which measures the fraction of correct predictions made by the model. These evaluation metrics are displayed to provide insights into the effectiveness of the model."
   ]
  },
  {
   "cell_type": "code",
   "execution_count": 1,
   "metadata": {},
   "outputs": [],
   "source": [
    "#importing the libraries\n",
    "from sklearn.datasets import load_wine\n",
    "from sklearn.model_selection import train_test_split\n",
    "from sklearn.naive_bayes import GaussianNB\n",
    "from sklearn import metrics"
   ]
  },
  {
   "cell_type": "code",
   "execution_count": 2,
   "metadata": {},
   "outputs": [
    {
     "name": "stdout",
     "output_type": "stream",
     "text": [
      ".. _wine_dataset:\n",
      "\n",
      "Wine recognition dataset\n",
      "------------------------\n",
      "\n",
      "**Data Set Characteristics:**\n",
      "\n",
      "    :Number of Instances: 178 (50 in each of three classes)\n",
      "    :Number of Attributes: 13 numeric, predictive attributes and the class\n",
      "    :Attribute Information:\n",
      " \t\t- Alcohol\n",
      " \t\t- Malic acid\n",
      " \t\t- Ash\n",
      "\t\t- Alcalinity of ash  \n",
      " \t\t- Magnesium\n",
      "\t\t- Total phenols\n",
      " \t\t- Flavanoids\n",
      " \t\t- Nonflavanoid phenols\n",
      " \t\t- Proanthocyanins\n",
      "\t\t- Color intensity\n",
      " \t\t- Hue\n",
      " \t\t- OD280/OD315 of diluted wines\n",
      " \t\t- Proline\n",
      "\n",
      "    - class:\n",
      "            - class_0\n",
      "            - class_1\n",
      "            - class_2\n",
      "\t\t\n",
      "    :Summary Statistics:\n",
      "    \n",
      "    ============================= ==== ===== ======= =====\n",
      "                                   Min   Max   Mean     SD\n",
      "    ============================= ==== ===== ======= =====\n",
      "    Alcohol:                      11.0  14.8    13.0   0.8\n",
      "    Malic Acid:                   0.74  5.80    2.34  1.12\n",
      "    Ash:                          1.36  3.23    2.36  0.27\n",
      "    Alcalinity of Ash:            10.6  30.0    19.5   3.3\n",
      "    Magnesium:                    70.0 162.0    99.7  14.3\n",
      "    Total Phenols:                0.98  3.88    2.29  0.63\n",
      "    Flavanoids:                   0.34  5.08    2.03  1.00\n",
      "    Nonflavanoid Phenols:         0.13  0.66    0.36  0.12\n",
      "    Proanthocyanins:              0.41  3.58    1.59  0.57\n",
      "    Colour Intensity:              1.3  13.0     5.1   2.3\n",
      "    Hue:                          0.48  1.71    0.96  0.23\n",
      "    OD280/OD315 of diluted wines: 1.27  4.00    2.61  0.71\n",
      "    Proline:                       278  1680     746   315\n",
      "    ============================= ==== ===== ======= =====\n",
      "\n",
      "    :Missing Attribute Values: None\n",
      "    :Class Distribution: class_0 (59), class_1 (71), class_2 (48)\n",
      "    :Creator: R.A. Fisher\n",
      "    :Donor: Michael Marshall (MARSHALL%PLU@io.arc.nasa.gov)\n",
      "    :Date: July, 1988\n",
      "\n",
      "This is a copy of UCI ML Wine recognition datasets.\n",
      "https://archive.ics.uci.edu/ml/machine-learning-databases/wine/wine.data\n",
      "\n",
      "The data is the results of a chemical analysis of wines grown in the same\n",
      "region in Italy by three different cultivators. There are thirteen different\n",
      "measurements taken for different constituents found in the three types of\n",
      "wine.\n",
      "\n",
      "Original Owners: \n",
      "\n",
      "Forina, M. et al, PARVUS - \n",
      "An Extendible Package for Data Exploration, Classification and Correlation. \n",
      "Institute of Pharmaceutical and Food Analysis and Technologies,\n",
      "Via Brigata Salerno, 16147 Genoa, Italy.\n",
      "\n",
      "Citation:\n",
      "\n",
      "Lichman, M. (2013). UCI Machine Learning Repository\n",
      "[https://archive.ics.uci.edu/ml]. Irvine, CA: University of California,\n",
      "School of Information and Computer Science. \n",
      "\n",
      ".. topic:: References\n",
      "\n",
      "  (1) S. Aeberhard, D. Coomans and O. de Vel, \n",
      "  Comparison of Classifiers in High Dimensional Settings, \n",
      "  Tech. Rep. no. 92-02, (1992), Dept. of Computer Science and Dept. of  \n",
      "  Mathematics and Statistics, James Cook University of North Queensland. \n",
      "  (Also submitted to Technometrics). \n",
      "\n",
      "  The data was used with many others for comparing various \n",
      "  classifiers. The classes are separable, though only RDA \n",
      "  has achieved 100% correct classification. \n",
      "  (RDA : 100%, QDA 99.4%, LDA 98.9%, 1NN 96.1% (z-transformed data)) \n",
      "  (All results using the leave-one-out technique) \n",
      "\n",
      "  (2) S. Aeberhard, D. Coomans and O. de Vel, \n",
      "  \"THE CLASSIFICATION PERFORMANCE OF RDA\" \n",
      "  Tech. Rep. no. 92-01, (1992), Dept. of Computer Science and Dept. of \n",
      "  Mathematics and Statistics, James Cook University of North Queensland. \n",
      "  (Also submitted to Journal of Chemometrics).\n",
      "\n"
     ]
    }
   ],
   "source": [
    "#loading the wine dataset from sklearn library\n",
    "wine_data = load_wine()\n",
    "    \n",
    "#View the dataset description\n",
    "print(wine_data.DESCR) "
   ]
  },
  {
   "cell_type": "code",
   "execution_count": 3,
   "metadata": {},
   "outputs": [
    {
     "name": "stdout",
     "output_type": "stream",
     "text": [
      "Shape of Predictors:  (178, 13)\n",
      "Shape of Target:  (178,)\n"
     ]
    }
   ],
   "source": [
    "#Viewing the shape of data and target variables\n",
    "print(\"Shape of Predictors: \", wine_data.data.shape)\n",
    "print(\"Shape of Target: \", wine_data.target.shape)"
   ]
  },
  {
   "cell_type": "code",
   "execution_count": 4,
   "metadata": {},
   "outputs": [],
   "source": [
    "# splitting the dataset into training and testing sets in the ratio 3:1\n",
    "\"\"\" The function train_test_split() is used to split the dataset\n",
    "    Args:\n",
    "        *arrays :\n",
    "                X: 13 predictors variables from wine dataset\n",
    "                Y: target variable that contains 'class' of the wine (3 unique values)  \n",
    "        test_size: (float or int)\n",
    "                The proportion of the dataset to include in the test split\n",
    "        random_state: (int) \n",
    "                Controls the shuffling applied to the data before applying the split. Promotes reproducible output \n",
    "                across multiple function calls.\n",
    "        stratify: (array-like)\n",
    "                Stratified sampling is done based on the variable passed; based on the class of variables. There are 3 \n",
    "                classes and the samples per class is [59,71,48]. The test data in stratified sampling is [15,18,12].\n",
    "                \n",
    "    Returns:\n",
    "        splitting: (lists)\n",
    "                Returns 2*len(arrays). Four lists are returned and they are stored in variables. \n",
    "\"\"\"\n",
    "X_train, X_test, y_train, y_test = train_test_split(wine_data.data,\n",
    "                                                        wine_data.target,\n",
    "                                                        test_size = 0.25,\n",
    "                                                        random_state = 2022,\n",
    "                                                        stratify = wine_data.target)\n",
    "    "
   ]
  },
  {
   "cell_type": "code",
   "execution_count": 5,
   "metadata": {},
   "outputs": [
    {
     "data": {
      "text/plain": [
       "GaussianNB()"
      ]
     },
     "execution_count": 5,
     "metadata": {},
     "output_type": "execute_result"
    }
   ],
   "source": [
    "# Using Gaussian Naive Bayes model to fit the data\n",
    "classifyWine = GaussianNB()\n",
    "classifyWine.fit(X_train, y_train)\n",
    "   "
   ]
  },
  {
   "cell_type": "code",
   "execution_count": 6,
   "metadata": {},
   "outputs": [],
   "source": [
    "# Predicting the lables of the test data using the model created\n",
    "predicted_Data = classifyWine.predict(X_test)"
   ]
  },
  {
   "cell_type": "code",
   "execution_count": 7,
   "metadata": {},
   "outputs": [
    {
     "name": "stdout",
     "output_type": "stream",
     "text": [
      "[[15  0  0]\n",
      " [ 0 18  0]\n",
      " [ 0  0 12]]\n"
     ]
    }
   ],
   "source": [
    "# Creating a confusion matrix to compare the predicted values and the expected values\n",
    "print(metrics.confusion_matrix(y_test, predicted_Data))"
   ]
  },
  {
   "cell_type": "code",
   "execution_count": 8,
   "metadata": {},
   "outputs": [
    {
     "name": "stdout",
     "output_type": "stream",
     "text": [
      "              precision    recall  f1-score   support\n",
      "\n",
      "     class_0       1.00      1.00      1.00        15\n",
      "     class_1       1.00      1.00      1.00        18\n",
      "     class_2       1.00      1.00      1.00        12\n",
      "\n",
      "    accuracy                           1.00        45\n",
      "   macro avg       1.00      1.00      1.00        45\n",
      "weighted avg       1.00      1.00      1.00        45\n",
      "\n"
     ]
    }
   ],
   "source": [
    "# Generating classification report\n",
    "print(metrics.classification_report(y_test, predicted_Data, target_names=wine_data.target_names))"
   ]
  },
  {
   "cell_type": "code",
   "execution_count": 9,
   "metadata": {},
   "outputs": [
    {
     "name": "stdout",
     "output_type": "stream",
     "text": [
      "Model Accuracy :  100.0\n"
     ]
    }
   ],
   "source": [
    "# returns the accuracy score of the prediction model\n",
    "\"\"\" Calculating the accuracy score using metrics.accuracy_score()\n",
    "        Args:\n",
    "            y_true : The actual values of y\n",
    "            y_predicted : The predicted values of y using the prediction model\n",
    "        Returns:\n",
    "            score: If normalize == True (default), return the fraction of correctly classified samples (float), else \n",
    "            returns the number of correctly classified samples (int).\n",
    "\"\"\"\n",
    "print(\"Model Accuracy : \", metrics.accuracy_score(y_test, predicted_Data)*100)"
   ]
  },
  {
   "cell_type": "markdown",
   "metadata": {},
   "source": [
    "### <div class=\"alert alert-info\">Conclusion</div>\n",
    " The Gaussian Naive Bayes model built using the training dataset is found to have 100% accuracy in predicting the class of wines when tested with the testing dataset. Also, it is noted that, when the sample method is not stratified, the accuracy of the prediction model for same size of train and test samples is only 97.7%. Thus, we can conclude that stratified sampling method with 75% of the data for training the Gaussian Naive Bayes model is the best model for this wine dataset. "
   ]
  }
 ],
 "metadata": {
  "kernelspec": {
   "display_name": "Python 3",
   "language": "python",
   "name": "python3"
  },
  "language_info": {
   "codemirror_mode": {
    "name": "ipython",
    "version": 3
   },
   "file_extension": ".py",
   "mimetype": "text/x-python",
   "name": "python",
   "nbconvert_exporter": "python",
   "pygments_lexer": "ipython3",
   "version": "3.7.7"
  }
 },
 "nbformat": 4,
 "nbformat_minor": 4
}
